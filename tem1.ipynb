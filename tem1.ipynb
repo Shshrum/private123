{
 "cells": [
  {
   "cell_type": "code",
   "execution_count": 1,
   "metadata": {},
   "outputs": [
    {
     "name": "stderr",
     "output_type": "stream",
     "text": [
      "c:\\Users\\Admin\\Downloads\\Project 4\\myenv\\lib\\site-packages\\tqdm\\auto.py:21: TqdmWarning: IProgress not found. Please update jupyter and ipywidgets. See https://ipywidgets.readthedocs.io/en/stable/user_install.html\n",
      "  from .autonotebook import tqdm as notebook_tqdm\n"
     ]
    }
   ],
   "source": [
    "from langchain_openai import AzureOpenAI,AzureChatOpenAI, AzureOpenAIEmbeddings\n",
    "from langchain_community.vectorstores import Chroma\n",
    "from langchain_community.document_loaders.csv_loader import CSVLoader\n",
    "from langchain.text_splitter import CharacterTextSplitter\n",
    "import chromadb\n",
    "import json\n",
    "from sentence_transformers import SentenceTransformer, util\n",
    "import os\n",
    "import re\n",
    "import requests\n",
    "import sys\n",
    "from num2words import num2words\n",
    "import pandas as pd\n",
    "import numpy as np\n",
    "import tiktoken\n",
    "#from openai import AzureOpenAI\n",
    "from datetime import datetime, timedelta\n",
    "from typing import List\n",
    "from datetime import datetime, timedelta\n",
    "from langchain.tools import BaseTool\n",
    "from openai import AzureOpenAI\n",
    "import openai\n",
    "from langchain.agents import initialize_agent, AgentType\n",
    "#from langchain.llms import AzureOpenAI\n",
    "from langchain.agents import AgentExecutor,create_openai_tools_agent\n",
    "from langchain.agents import load_tools\n",
    "from langchain.agents import tool\n",
    "from langchain_core.prompts import ChatPromptTemplate\n",
    "from langchain_core.runnables import RunnableLambda, RunnablePassthrough\n",
    "from langchain_community.vectorstores import Chroma\n",
    "from langchain_core.output_parsers import StrOutputParser\n",
    "from langchain_core.runnables import RunnablePassthrough\n",
    "from langchain_core.messages import HumanMessage\n",
    "from langchain.pydantic_v1 import BaseModel, Field\n",
    "from langchain.tools import BaseTool, StructuredTool, tool"
   ]
  },
  {
   "cell_type": "code",
   "execution_count": 2,
   "metadata": {},
   "outputs": [
    {
     "data": {
      "text/plain": [
       "True"
      ]
     },
     "execution_count": 2,
     "metadata": {},
     "output_type": "execute_result"
    }
   ],
   "source": [
    "from dotenv import load_dotenv\n",
    "import os\n",
    "load_dotenv()"
   ]
  },
  {
   "cell_type": "code",
   "execution_count": 3,
   "metadata": {},
   "outputs": [],
   "source": [
    "embeddings = AzureOpenAIEmbeddings(\n",
    "    azure_deployment=\"text-embedding-ada-002\",\n",
    "    openai_api_version=\"2023-05-15\",\n",
    "    api_key=os.getenv('API_KEY'),\n",
    "    azure_endpoint=os.getenv('AZURE_ENDPOINT')\n",
    ")"
   ]
  },
  {
   "cell_type": "code",
   "execution_count": 11,
   "metadata": {},
   "outputs": [],
   "source": [
    "llm = AzureChatOpenAI(model_name=\"gls-gpt-35-turbo\", temperature=0, api_key=os.getenv('API_KEY'), azure_endpoint=os.getenv('AZURE_ENDPOINT'),api_version=os.getenv('API_VERSION'))"
   ]
  },
  {
   "cell_type": "markdown",
   "metadata": {},
   "source": [
    "Method 1: Using Vectordb\n"
   ]
  },
  {
   "cell_type": "markdown",
   "metadata": {},
   "source": []
  },
  {
   "cell_type": "code",
   "execution_count": 5,
   "metadata": {},
   "outputs": [],
   "source": [
    "vectordb = Chroma(\n",
    "    embedding_function=embeddings,\n",
    "    persist_directory='./chromadb/hscodes/'\n",
    ")"
   ]
  },
  {
   "cell_type": "code",
   "execution_count": 8,
   "metadata": {},
   "outputs": [
    {
     "data": {
      "text/plain": [
       "[Document(page_content='HS Code: 0711.20.1800\\nDescription: Vegetables provisionally preserved, but unsuitable in that state for immediate consumption: > Olives: > Not pitted: > Green in color, in a saline solution, in containers each holding more than 8 kg, drained weight, certified by the importer to be used for repacking or sale as green olives: > Described in additional U.S. note 5 to this chapter and entered pursuant to its provisions\\n', metadata={'hs_code': '0711.20.1800'}),\n",
       " Document(page_content='HS Code: 2005.70.2542\\nDescription: Other vegetables prepared or preserved otherwise than by vinegar or acetic acid, not frozen, other than products of heading 2006: > Olives: > In a saline solution: > Green in color: > Pitted or stuffed: > Other > In containers each holding 8 kg or less, drained weight: > Whole pitted: > Spanish style of a kind described in statistical note 1 to this chapter\\n', metadata={'hs_code': '2005.70.2542'}),\n",
       " Document(page_content='HS Code: 2005.70.2550\\nDescription: Other vegetables prepared or preserved otherwise than by vinegar or acetic acid, not frozen, other than products of heading 2006: > Olives: > In a saline solution: > Green in color: > Pitted or stuffed: > Other > In containers each holding 8 kg or less, drained weight: > Whole stuffed\\n', metadata={'hs_code': '2005.70.2550'}),\n",
       " Document(page_content='HS Code: 0711.20.2800\\nDescription: Vegetables provisionally preserved, but unsuitable in that state for immediate consumption: > Olives: > Not pitted: > Green in color, in a saline solution, in containers each holding more than 8 kg, drained weight, certified by the importer to be used for repacking or sale as green olives: > Other\\n', metadata={'hs_code': '0711.20.2800'}),\n",
       " Document(page_content='HS Code: 2005.70.0800\\nDescription: Other vegetables prepared or preserved otherwise than by vinegar or acetic acid, not frozen, other than products of heading 2006: > Olives: > In a saline solution: > Green in color: > Not pitted: > Other: > In containers each holding more than 8 kg, drained weight, certified by the importer to be used for repacking or sale as green olives: > Other\\n', metadata={'hs_code': '2005.70.0800'}),\n",
       " Document(page_content='HS Code: 2005.70.0230\\nDescription: Other vegetables prepared or preserved otherwise than by vinegar or acetic acid, not frozen, other than products of heading 2006: > Olives: > In a saline solution: > Green in color: > Not pitted: > Ripe, in containers each holding less than 13 kg, drained weight: > In an aggregate quantity not to exceed 730 metric tons entered in any calendar year > In containers each holding more than 8 kg, drained weight\\n', metadata={'hs_code': '2005.70.0230'}),\n",
       " Document(page_content='HS Code: 2005.70.2570\\nDescription: Other vegetables prepared or preserved otherwise than by vinegar or acetic acid, not frozen, other than products of heading 2006: > Olives: > In a saline solution: > Green in color: > Pitted or stuffed: > Other > In containers each holding 8 kg or less, drained weight: > Other, including broken, sliced or salad style: > Spanish style of a kind described in statistical note 1 to this chapter\\n', metadata={'hs_code': '2005.70.2570'}),\n",
       " Document(page_content='HS Code: 1509.40.2030\\nDescription: Olive oil and its fractions, whether or not refined, but not chemically modified: > Other virgin olive oils: > Weighing with the immediate container under 18 kg > Certified organic\\n', metadata={'hs_code': '1509.40.2030'}),\n",
       " Document(page_content='HS Code: 2005.70.2520\\nDescription: Other vegetables prepared or preserved otherwise than by vinegar or acetic acid, not frozen, other than products of heading 2006: > Olives: > In a saline solution: > Green in color: > Pitted or stuffed: > Other > In containers each holding more than 8 kg, drained weight: > Whole stuffed\\n', metadata={'hs_code': '2005.70.2520'}),\n",
       " Document(page_content='HS Code: 2005.70.0260\\nDescription: Other vegetables prepared or preserved otherwise than by vinegar or acetic acid, not frozen, other than products of heading 2006: > Olives: > In a saline solution: > Green in color: > Not pitted: > Ripe, in containers each holding less than 13 kg, drained weight: > In an aggregate quantity not to exceed 730 metric tons entered in any calendar year > In containers each holding 8 kg or less drained weight\\n', metadata={'hs_code': '2005.70.0260'}),\n",
       " Document(page_content='HS Code: 1509.30.2030\\nDescription: Olive oil and its fractions, whether or not refined, but not chemically modified: > Virgin olive oil: > Weighing with the immediate container under 18 kg > Certified organic\\n', metadata={'hs_code': '1509.30.2030'}),\n",
       " Document(page_content='HS Code: 1509.20.2030\\nDescription: Olive oil and its fractions, whether or not refined, but not chemically modified: > Extra virgin olive oil: > Weighing with the immediate container under 18 kg > Certified organic\\n', metadata={'hs_code': '1509.20.2030'}),\n",
       " Document(page_content='HS Code: 2005.70.0600\\nDescription: Other vegetables prepared or preserved otherwise than by vinegar or acetic acid, not frozen, other than products of heading 2006: > Olives: > In a saline solution: > Green in color: > Not pitted: > Other: > In containers each holding more than 8 kg, drained weight, certified by the importer to be used for repacking or sale as green olives: > Described in additional U.S. note 4 to this chapter and entered pursuant to its provisions\\n', metadata={'hs_code': '2005.70.0600'}),\n",
       " Document(page_content='HS Code: 2005.70.6030\\nDescription: Other vegetables prepared or preserved otherwise than by vinegar or acetic acid, not frozen, other than products of heading 2006: > Olives: > In a saline solution: > Not green in color: > Canned: > Other > Whole pitted: > In containers each holding 0.3 kg or less, drained weight\\n', metadata={'hs_code': '2005.70.6030'}),\n",
       " Document(page_content='HS Code: 2005.70.2580\\nDescription: Other vegetables prepared or preserved otherwise than by vinegar or acetic acid, not frozen, other than products of heading 2006: > Olives: > In a saline solution: > Green in color: > Pitted or stuffed: > Other > In containers each holding 8 kg or less, drained weight: > Other, including broken, sliced or salad style: > Other\\n', metadata={'hs_code': '2005.70.2580'}),\n",
       " Document(page_content='HS Code: 2005.70.1600\\nDescription: Other vegetables prepared or preserved otherwise than by vinegar or acetic acid, not frozen, other than products of heading 2006: > Olives: > In a saline solution: > Green in color: > Pitted or stuffed: > Place packed: > Stuffed, in containers each holding not more than 1 kg, drained weight: > In an aggregate quantity not to exceed 2,700 metric tons in any calendar year\\n', metadata={'hs_code': '2005.70.1600'}),\n",
       " Document(page_content='HS Code: 2005.70.2546\\nDescription: Other vegetables prepared or preserved otherwise than by vinegar or acetic acid, not frozen, other than products of heading 2006: > Olives: > In a saline solution: > Green in color: > Pitted or stuffed: > Other > In containers each holding 8 kg or less, drained weight: > Whole pitted: > Other\\n', metadata={'hs_code': '2005.70.2546'}),\n",
       " Document(page_content='HS Code: 2005.70.1800\\nDescription: Other vegetables prepared or preserved otherwise than by vinegar or acetic acid, not frozen, other than products of heading 2006: > Olives: > In a saline solution: > Green in color: > Pitted or stuffed: > Place packed: > Stuffed, in containers each holding not more than 1 kg, drained weight: > Other\\n', metadata={'hs_code': '2005.70.1800'}),\n",
       " Document(page_content='HS Code: 2005.70.2510\\nDescription: Other vegetables prepared or preserved otherwise than by vinegar or acetic acid, not frozen, other than products of heading 2006: > Olives: > In a saline solution: > Green in color: > Pitted or stuffed: > Other > In containers each holding more than 8 kg, drained weight: > Whole pitted\\n', metadata={'hs_code': '2005.70.2510'}),\n",
       " Document(page_content='HS Code: 0709.92.0000\\nDescription: Other vegetables, fresh or chilled: > Other: > Olives\\n', metadata={'hs_code': '0709.92.0000'}),\n",
       " Document(page_content='HS Code: 2005.70.2530\\nDescription: Other vegetables prepared or preserved otherwise than by vinegar or acetic acid, not frozen, other than products of heading 2006: > Olives: > In a saline solution: > Green in color: > Pitted or stuffed: > Other > In containers each holding more than 8 kg, drained weight: > Other, including broken, sliced or salad style\\n', metadata={'hs_code': '2005.70.2530'}),\n",
       " Document(page_content='HS Code: 2005.70.0460\\nDescription: Other vegetables prepared or preserved otherwise than by vinegar or acetic acid, not frozen, other than products of heading 2006: > Olives: > In a saline solution: > Green in color: > Not pitted: > Ripe, in containers each holding less than 13 kg, drained weight: > Other > In containers each holding 8 kg or less, drained weight\\n', metadata={'hs_code': '2005.70.0460'}),\n",
       " Document(page_content='HS Code: 2005.70.5030\\nDescription: Other vegetables prepared or preserved otherwise than by vinegar or acetic acid, not frozen, other than products of heading 2006: > Olives: > In a saline solution: > Not green in color: > Canned: > Not pitted > In containers each holding more than 0.3 kg, drained weight\\n', metadata={'hs_code': '2005.70.5030'}),\n",
       " Document(page_content='HS Code: 2005.70.6020\\nDescription: Other vegetables prepared or preserved otherwise than by vinegar or acetic acid, not frozen, other than products of heading 2006: > Olives: > In a saline solution: > Not green in color: > Canned: > Other > Whole pitted: > In containers each holding more than 0.3 kg, drained weight\\n', metadata={'hs_code': '2005.70.6020'}),\n",
       " Document(page_content='HS Code: 2005.70.5060\\nDescription: Other vegetables prepared or preserved otherwise than by vinegar or acetic acid, not frozen, other than products of heading 2006: > Olives: > In a saline solution: > Not green in color: > Canned: > Not pitted > In containers each holding 0.3 kg or less, drained weight\\n', metadata={'hs_code': '2005.70.5060'}),\n",
       " Document(page_content='HS Code: 2005.70.0430\\nDescription: Other vegetables prepared or preserved otherwise than by vinegar or acetic acid, not frozen, other than products of heading 2006: > Olives: > In a saline solution: > Green in color: > Not pitted: > Ripe, in containers each holding less than 13 kg, drained weight: > Other > In containers each holding more than 8 kg, drained weight\\n', metadata={'hs_code': '2005.70.0430'}),\n",
       " Document(page_content='HS Code: 2005.70.9100\\nDescription: Other vegetables prepared or preserved otherwise than by vinegar or acetic acid, not frozen, other than products of heading 2006: > Olives: > Otherwise prepared or preserved: > Green, in containers each holding less than 13 kg, drained weight: > In an aggregate quantity not to exceed 550 metric tons in any calendar year\\n', metadata={'hs_code': '2005.70.9100'}),\n",
       " Document(page_content='HS Code: 0711.20.4000\\nDescription: Vegetables provisionally preserved, but unsuitable in that state for immediate consumption: > Olives: > Pitted or stuffed\\n', metadata={'hs_code': '0711.20.4000'}),\n",
       " Document(page_content='HS Code: 1509.30.2090\\nDescription: Olive oil and its fractions, whether or not refined, but not chemically modified: > Virgin olive oil: > Weighing with the immediate container under 18 kg > Other\\n', metadata={'hs_code': '1509.30.2090'}),\n",
       " Document(page_content='HS Code: 1509.20.2090\\nDescription: Olive oil and its fractions, whether or not refined, but not chemically modified: > Extra virgin olive oil: > Weighing with the immediate container under 18 kg > Other\\n', metadata={'hs_code': '1509.20.2090'}),\n",
       " Document(page_content='HS Code: 1509.40.2090\\nDescription: Olive oil and its fractions, whether or not refined, but not chemically modified: > Other virgin olive oils: > Weighing with the immediate container under 18 kg > Other\\n', metadata={'hs_code': '1509.40.2090'}),\n",
       " Document(page_content='HS Code: 1510.90.2000\\nDescription: Other oils and their fractions, obtained solely from olives, whether or not refined, but not chemically modified, including blends of these oils and fractions with oils or fractions of heading 1509: > Other: > Other: > Weighing with the immediate container under 18 kg\\n', metadata={'hs_code': '1510.90.2000'}),\n",
       " Document(page_content='HS Code: 2005.70.9300\\nDescription: Other vegetables prepared or preserved otherwise than by vinegar or acetic acid, not frozen, other than products of heading 2006: > Olives: > Otherwise prepared or preserved: > Green, in containers each holding less than 13 kg, drained weight: > Other\\n', metadata={'hs_code': '2005.70.9300'}),\n",
       " Document(page_content='HS Code: 2005.70.6070\\nDescription: Other vegetables prepared or preserved otherwise than by vinegar or acetic acid, not frozen, other than products of heading 2006: > Olives: > In a saline solution: > Not green in color: > Canned: > Other > Other, including wedged or broken\\n', metadata={'hs_code': '2005.70.6070'}),\n",
       " Document(page_content='HS Code: 1510.10.1000\\nDescription: Other oils and their fractions, obtained solely from olives, whether or not refined, but not chemically modified, including blends of these oils and fractions with oils or fractions of heading 1509: > Crude olive pomace oil: > Weighing with the immediate container under 18 kg\\n', metadata={'hs_code': '1510.10.1000'}),\n",
       " Document(page_content='HS Code: 0711.20.3800\\nDescription: Vegetables provisionally preserved, but unsuitable in that state for immediate consumption: > Olives: > Not pitted: > Other\\n', metadata={'hs_code': '0711.20.3800'}),\n",
       " Document(page_content='HS Code: 2005.70.7510\\nDescription: Other vegetables prepared or preserved otherwise than by vinegar or acetic acid, not frozen, other than products of heading 2006: > Olives: > In a saline solution: > Not green in color: > Other than canned: > Other > Whole pitted\\n', metadata={'hs_code': '2005.70.7510'}),\n",
       " Document(page_content='HS Code: 1509.90.2000\\nDescription: Olive oil and its fractions, whether or not refined, but not chemically modified: > Other: > Weighing with the immediate container under 18 kg\\n', metadata={'hs_code': '1509.90.2000'}),\n",
       " Document(page_content='HS Code: 2005.70.2300\\nDescription: Other vegetables prepared or preserved otherwise than by vinegar or acetic acid, not frozen, other than products of heading 2006: > Olives: > In a saline solution: > Green in color: > Pitted or stuffed: > Place packed: > Other\\n', metadata={'hs_code': '2005.70.2300'}),\n",
       " Document(page_content='HS Code: 2005.70.7525\\nDescription: Other vegetables prepared or preserved otherwise than by vinegar or acetic acid, not frozen, other than products of heading 2006: > Olives: > In a saline solution: > Not green in color: > Other than canned: > Other > Other, including wedged or broken\\n', metadata={'hs_code': '2005.70.7525'}),\n",
       " Document(page_content='HS Code: 2005.70.7515\\nDescription: Other vegetables prepared or preserved otherwise than by vinegar or acetic acid, not frozen, other than products of heading 2006: > Olives: > In a saline solution: > Not green in color: > Other than canned: > Other > Sliced\\n', metadata={'hs_code': '2005.70.7515'}),\n",
       " Document(page_content='HS Code: 2005.70.6060\\nDescription: Other vegetables prepared or preserved otherwise than by vinegar or acetic acid, not frozen, other than products of heading 2006: > Olives: > In a saline solution: > Not green in color: > Canned: > Other > Chopped or minced\\n', metadata={'hs_code': '2005.70.6060'}),\n",
       " Document(page_content='HS Code: 2005.70.6050\\nDescription: Other vegetables prepared or preserved otherwise than by vinegar or acetic acid, not frozen, other than products of heading 2006: > Olives: > In a saline solution: > Not green in color: > Canned: > Other > Sliced\\n', metadata={'hs_code': '2005.70.6050'}),\n",
       " Document(page_content='HS Code: 2005.70.7520\\nDescription: Other vegetables prepared or preserved otherwise than by vinegar or acetic acid, not frozen, other than products of heading 2006: > Olives: > In a saline solution: > Not green in color: > Other than canned: > Other > Chopped or minced\\n', metadata={'hs_code': '2005.70.7520'}),\n",
       " Document(page_content='HS Code: 1509.30.9030\\nDescription: Olive oil and its fractions, whether or not refined, but not chemically modified: > Virgin olive oil: > Other > Certified organic\\n', metadata={'hs_code': '1509.30.9030'}),\n",
       " Document(page_content='HS Code: 2005.70.1200\\nDescription: Other vegetables prepared or preserved otherwise than by vinegar or acetic acid, not frozen, other than products of heading 2006: > Olives: > In a saline solution: > Green in color: > Not pitted: > Other: > Other\\n', metadata={'hs_code': '2005.70.1200'}),\n",
       " Document(page_content='HS Code: 2005.70.7000\\nDescription: Other vegetables prepared or preserved otherwise than by vinegar or acetic acid, not frozen, other than products of heading 2006: > Olives: > In a saline solution: > Not green in color: > Other than canned: > In airtight containers of glass or metal\\n', metadata={'hs_code': '2005.70.7000'}),\n",
       " Document(page_content='HS Code: 1509.40.9030\\nDescription: Olive oil and its fractions, whether or not refined, but not chemically modified: > Other virgin olive oils: > Other > Certified organic\\n', metadata={'hs_code': '1509.40.9030'}),\n",
       " Document(page_content='HS Code: 1509.20.9030\\nDescription: Olive oil and its fractions, whether or not refined, but not chemically modified: > Extra virgin olive oil: > Other > Certified organic\\n', metadata={'hs_code': '1509.20.9030'}),\n",
       " Document(page_content='HS Code: 1510.90.1000\\nDescription: Other oils and their fractions, obtained solely from olives, whether or not refined, but not chemically modified, including blends of these oils and fractions with oils or fractions of heading 1509: > Other: > Rendered unfit for use as food\\n', metadata={'hs_code': '1510.90.1000'})]"
      ]
     },
     "execution_count": 8,
     "metadata": {},
     "output_type": "execute_result"
    }
   ],
   "source": [
    "# k is the number of chunks to retrieve\n",
    "retriever = vectordb.as_retriever(search_type=\"similarity\",search_kwargs={'k': 50})\n",
    "\n",
    "docs = retriever.invoke(\"I want to import olives.\")\n",
    "\n",
    "docs"
   ]
  },
  {
   "cell_type": "code",
   "execution_count": 9,
   "metadata": {},
   "outputs": [
    {
     "data": {
      "text/plain": [
       "50"
      ]
     },
     "execution_count": 9,
     "metadata": {},
     "output_type": "execute_result"
    }
   ],
   "source": [
    "len(docs)"
   ]
  },
  {
   "cell_type": "code",
   "execution_count": 14,
   "metadata": {},
   "outputs": [],
   "source": [
    "from langchain.chains.combine_documents import create_stuff_documents_chain\n",
    "from langchain_core.prompts import ChatPromptTemplate, MessagesPlaceholder\n",
    "\n",
    "SYSTEM_TEMPLATE = \"\"\"\n",
    "Act as an expert in asking follow-up questions one at a time. Whenever I ask you a question, you have to ask me follow-up questions one by one to accurately suggest the specific single HS code in full 10 digits. Use the hierarchy to form questions. Strictly ask questions one by one.\n",
    "\n",
    "<context>\n",
    "{context}\n",
    "</context>\n",
    "\"\"\"\n",
    "\n",
    "question_answering_prompt = ChatPromptTemplate.from_messages(\n",
    "    [\n",
    "        (\n",
    "            \"system\",\n",
    "            SYSTEM_TEMPLATE,\n",
    "        ),\n",
    "        MessagesPlaceholder(variable_name=\"messages\"),\n",
    "    ]\n",
    ")\n",
    "\n",
    "document_chain = create_stuff_documents_chain(llm,question_answering_prompt)"
   ]
  },
  {
   "cell_type": "code",
   "execution_count": 11,
   "metadata": {},
   "outputs": [
    {
     "data": {
      "text/plain": [
       "'Are the olives fresh or preserved?'"
      ]
     },
     "execution_count": 11,
     "metadata": {},
     "output_type": "execute_result"
    }
   ],
   "source": [
    "from langchain_core.messages import HumanMessage\n",
    "\n",
    "document_chain.invoke(\n",
    "    {\n",
    "        \"context\": docs,\n",
    "        \"messages\": [\n",
    "            HumanMessage(content=\"I want to import olives. What is the HS code?\")\n",
    "        ],\n",
    "    }\n",
    ")"
   ]
  },
  {
   "cell_type": "code",
   "execution_count": 15,
   "metadata": {},
   "outputs": [
    {
     "data": {
      "text/plain": [
       "'Are the olives pitted or stuffed?'"
      ]
     },
     "execution_count": 15,
     "metadata": {},
     "output_type": "execute_result"
    }
   ],
   "source": [
    "document_chain.invoke(\n",
    "    {\n",
    "        \"context\": docs,\n",
    "        \"messages\": [\n",
    "            HumanMessage(content=\"The olives are preserved.\")\n",
    "        ],\n",
    "    }\n",
    ")"
   ]
  },
  {
   "cell_type": "code",
   "execution_count": 16,
   "metadata": {},
   "outputs": [
    {
     "data": {
      "text/plain": [
       "'Is the olive green in color?'"
      ]
     },
     "execution_count": 16,
     "metadata": {},
     "output_type": "execute_result"
    }
   ],
   "source": [
    "document_chain.invoke(\n",
    "    {\n",
    "        \"context\": docs,\n",
    "        \"messages\": [\n",
    "            HumanMessage(content=\"Not Pitted\")\n",
    "        ],\n",
    "    }\n",
    ")"
   ]
  },
  {
   "cell_type": "code",
   "execution_count": 17,
   "metadata": {},
   "outputs": [
    {
     "data": {
      "text/plain": [
       "'Is it canned?'"
      ]
     },
     "execution_count": 17,
     "metadata": {},
     "output_type": "execute_result"
    }
   ],
   "source": [
    "document_chain.invoke(\n",
    "    {\n",
    "        \"context\": docs,\n",
    "        \"messages\": [\n",
    "            HumanMessage(content=\"Not Green\")\n",
    "        ],\n",
    "    }\n",
    ")"
   ]
  },
  {
   "cell_type": "markdown",
   "metadata": {},
   "source": [
    "Method 2: Using Vectordb1"
   ]
  },
  {
   "cell_type": "code",
   "execution_count": 6,
   "metadata": {},
   "outputs": [],
   "source": [
    "from langchain_community.docstore.document import Document\n"
   ]
  },
  {
   "cell_type": "code",
   "execution_count": 8,
   "metadata": {},
   "outputs": [],
   "source": [
    "text1= \"HS Code: 2001.10.0000 - This describes Cucumbers including gherkins prepared or preserved by vinegar or acetic acid.\"\n",
    "text2= \"HS Code: 2001.90.1000 - This describes Capers prepared or preserved by vinegar or acetic acid in immediate containers holding more than 3.4 kg.\"\n",
    "text3= \"HS Code: 2001.90.2000 - This describes Capers  prepared or preserved by vinegar or acetic acid in other types of containers.\"\n",
    "text4= \"HS Code: 2001.90.2500 - This describes Artichokes Vegetables prepared or preserved by vinegar or acetic acid.\"\n",
    "text5=\"HS Code: 2001.90.3000 - This describes Beans Vegetables prepared or preserved by vinegar or acetic acid.\"\n",
    "text6=\"HS Code: 2001.90.3300 - This describes Nopalitos Vegetables prepared or preserved by vinegar or acetic acid.\"\n",
    "text7=\"HS Code: 2001.90.3400 - This describes Onions Vegetables prepared or preserved by vinegar or acetic acid.\"\n",
    "text8=\"HS Code: 2001.90.3500 - This describes Pimientos Vegetables prepared or preserved by vinegar or acetic acid.\"\n",
    "text9=\"HS Code: 2001.90.3800 - This describes other Vegetables excluding Artichokes,Beans,Nopalitos,Onions and Pimientos prepared or preserved by vinegar or acetic acid.\"\n",
    "text10=\"HS Code: 2001.90.4200 - This describes Chestnuts, other than Chinese water chestnuts prepared or preserved by vinegar or acetic acid.\"\n",
    "text11=\"HS Code: 2001.90.4500 - This describes Mangoes fruit prepared or preserved by vinegar or acetic acid.\"\n",
    "text12=\"HS Code: 2001.90.4800 - This describes Chinese water Chestnuts prepared or preserved by vinegar or acetic acid.\"\n",
    "text13=\"HS Code: 2001.90.5000 - This describes Walnuts prepared or preserved by vinegar or acetic acid.\" \n",
    "text14=\"HS Code: 2001.90.6000 - This describes Vegetables, fruit, nuts and other edible parts of plants, prepared or preserved by vinegar or acetic acid other than cucumbers,Capers,Vegetables,Chestnuts, Mangoes and Walnuts indicating other preserved edible parts not specified elsewhere.\"\n",
    "text15=\"HS Code: 2002.10.0020 - This describes Tomatoes, whole or in pieces in containers holding less than 1.4 kg prepared or preserved otherwise than by vinegar or acetic acid.\"\n",
    "text16=\"HS Code: 2002.10.0080 - This describes Tomatoes, whole or in pieces in other types of containers prepared or preserved otherwise than by vinegar or acetic acid.\"\n",
    "text17=\"HS Code: 2002.90.4000 - This describes Tomatoes in the form of powder prepared or preserved otherwise than by vinegar or acetic acid.\"\n",
    "text18=\"HS Code: 2002.90.8010 - This describes Tomatoes paste in containers holding less than 1.4 kg prepared or preserved otherwise than by vinegar or acetic acid.\"\n",
    "text19=\"HS Code: 2002.90.8020 - This describes Tomatoes paste in any type of containers prepared or preserved otherwise than by vinegar or acetic acid.\"\n",
    "text20=\"HS Code: 2002.90.8030 - This describes Tomato puree in containers holding less than 1.4 kg prepared or preserved otherwise than by vinegar or acetic acid.\"\n",
    "text21=\"HS Code: 2002.90.8040 - This describes Tomato puree in any type of containers prepared or preserved otherwise than by vinegar or acetic acid.\"\n",
    "text22=\"HS Code: 2002.90.8050 - This describes Tomatoes in any other type of form excluding paste,powder,whole or in pieces and puree prepared or preserved otherwise than by vinegar or acetic acid.\""
   ]
  },
  {
   "cell_type": "code",
   "execution_count": 9,
   "metadata": {},
   "outputs": [],
   "source": [
    "doc1 = Document(page_content=text1)\n",
    "doc2 = Document(page_content=text2)\n",
    "doc3 = Document(page_content=text3)\n",
    "doc4 = Document(page_content=text4)\n",
    "doc5 = Document(page_content=text5)\n",
    "doc6 = Document(page_content=text6)\n",
    "doc7 = Document(page_content=text7)\n",
    "doc8 = Document(page_content=text8)\n",
    "doc9 = Document(page_content=text9)\n",
    "doc10 = Document(page_content=text10)\n",
    "doc11 = Document(page_content=text11)\n",
    "doc12 = Document(page_content=text12)\n",
    "doc13 = Document(page_content=text13)\n",
    "doc14 = Document(page_content=text14)\n",
    "doc15 = Document(page_content=text15)\n",
    "doc16 = Document(page_content=text16)\n",
    "doc17 = Document(page_content=text17)\n",
    "doc18 = Document(page_content=text18)\n",
    "doc19 = Document(page_content=text19)\n",
    "doc20 = Document(page_content=text20)\n",
    "doc21 = Document(page_content=text21)\n",
    "doc22 = Document(page_content=text22)\n"
   ]
  },
  {
   "cell_type": "code",
   "execution_count": 10,
   "metadata": {},
   "outputs": [],
   "source": [
    "docs=[doc1,doc2,doc3,doc4,doc5,doc6,doc7,doc8,doc9,doc10,doc11,doc12,doc13,doc14,doc15,doc16,doc17,doc18,doc19,doc20,doc21,doc22]"
   ]
  },
  {
   "cell_type": "code",
   "execution_count": 11,
   "metadata": {},
   "outputs": [
    {
     "data": {
      "text/plain": [
       "22"
      ]
     },
     "execution_count": 11,
     "metadata": {},
     "output_type": "execute_result"
    }
   ],
   "source": [
    "len(docs)"
   ]
  },
  {
   "cell_type": "code",
   "execution_count": 13,
   "metadata": {},
   "outputs": [],
   "source": [
    "vectordb1 = Chroma.from_documents(\n",
    "    documents=docs,\n",
    "    embedding=embeddings,\n",
    "    persist_directory='C:\\\\Users\\\\Admin\\\\Downloads\\\\Project 4\\\\vdb4'\n",
    ")"
   ]
  },
  {
   "cell_type": "code",
   "execution_count": 13,
   "metadata": {},
   "outputs": [],
   "source": [
    "vectordb1 = Chroma(\n",
    "    embedding_function=embeddings,\n",
    "    persist_directory='C:\\\\Users\\\\Admin\\\\Downloads\\\\Project 4\\\\vdb4'\n",
    ")"
   ]
  },
  {
   "cell_type": "code",
   "execution_count": 113,
   "metadata": {},
   "outputs": [
    {
     "data": {
      "text/plain": [
       "[Document(page_content='HS Code: 2001.90.3300 - This describes Nopalitos Vegetables prepared or preserved by vinegar or acetic acid.'),\n",
       " Document(page_content='HS Code: 2002.10.0020 - This describes Tomatoes, whole or in pieces in containers holding less than 1.4 kg prepared or preserved otherwise than by vinegar or acetic acid.'),\n",
       " Document(page_content='HS Code: 2002.90.8010 - This describes Tomatoes paste in containers holding less than 1.4 kg prepared or preserved otherwise than by vinegar or acetic acid.'),\n",
       " Document(page_content='HS Code: 2002.10.0080 - This describes Tomatoes, whole or in pieces in other types of containers prepared or preserved otherwise than by vinegar or acetic acid.'),\n",
       " Document(page_content='HS Code: 2001.90.6000 - This describes Vegetables, fruit, nuts and other edible parts of plants, prepared or preserved by vinegar or acetic acid other than cucumbers,Capers,Vegetables,Chestnuts, Mangoes and Walnuts indicating other preserved edible parts not specified elsewhere.'),\n",
       " Document(page_content='HS Code: 2001.90.3800 - This describes other Vegetables excluding Artichokes,Beans,Nopalitos,Onions and Pimientos prepared or preserved by vinegar or acetic acid.'),\n",
       " Document(page_content='HS Code: 2001.90.2500 - This describes Artichokes Vegetables prepared or preserved by vinegar or acetic acid.'),\n",
       " Document(page_content='HS Code: 2002.90.8030 - This describes Tomato puree in containers holding less than 1.4 kg prepared or preserved otherwise than by vinegar or acetic acid.'),\n",
       " Document(page_content='HS Code: 2001.90.3400 - This describes Onions Vegetables prepared or preserved by vinegar or acetic acid.'),\n",
       " Document(page_content='HS Code: 2002.90.4000 - This describes Tomatoes in the form of powder prepared or preserved otherwise than by vinegar or acetic acid.'),\n",
       " Document(page_content='HS Code: 2002.90.8020 - This describes Tomatoes paste in any type of containers prepared or preserved otherwise than by vinegar or acetic acid.'),\n",
       " Document(page_content='HS Code: 2001.90.3000 - This describes Beans Vegetables prepared or preserved by vinegar or acetic acid.'),\n",
       " Document(page_content='HS Code: 2001.90.1000 - This describes Capers prepared or preserved by vinegar or acetic acid in immediate containers holding more than 3.4 kg.'),\n",
       " Document(page_content='HS Code: 2001.90.5000 - This describes Walnuts prepared or preserved by vinegar or acetic acid.'),\n",
       " Document(page_content='HS Code: 2002.90.8050 - This describes Tomatoes in any other type of form excluding paste,powder,whole or in pieces and puree prepared or preserved otherwise than by vinegar or acetic acid.'),\n",
       " Document(page_content='HS Code: 2002.90.8040 - This describes Tomato puree in any type of containers prepared or preserved otherwise than by vinegar or acetic acid.'),\n",
       " Document(page_content='HS Code: 2001.90.3500 - This describes Pimientos Vegetables prepared or preserved by vinegar or acetic acid.'),\n",
       " Document(page_content='HS Code: 2001.90.4500 - This describes Mangoes fruit prepared or preserved by vinegar or acetic acid.'),\n",
       " Document(page_content='HS Code: 2001.90.4800 - This describes Chinese water Chestnuts prepared or preserved by vinegar or acetic acid.'),\n",
       " Document(page_content='HS Code: 2001.90.2000 - This describes Capers  prepared or preserved by vinegar or acetic acid in other types of containers.'),\n",
       " Document(page_content='HS Code: 2001.10.0000 - This describes Cucumbers including gherkins prepared or preserved by vinegar or acetic acid.'),\n",
       " Document(page_content='HS Code: 2001.90.4200 - This describes Chestnuts, other than Chinese water chestnuts prepared or preserved by vinegar or acetic acid.')]"
      ]
     },
     "execution_count": 113,
     "metadata": {},
     "output_type": "execute_result"
    }
   ],
   "source": [
    "retriever = vectordb1.as_retriever(search_type=\"similarity\",search_kwargs={'k': 22})\n",
    "\n",
    "docs = retriever.invoke(\"I want to import olives.\")\n",
    "\n",
    "docs"
   ]
  },
  {
   "cell_type": "code",
   "execution_count": 117,
   "metadata": {},
   "outputs": [
    {
     "data": {
      "text/plain": [
       "22"
      ]
     },
     "execution_count": 117,
     "metadata": {},
     "output_type": "execute_result"
    }
   ],
   "source": [
    "len(docs)"
   ]
  },
  {
   "cell_type": "code",
   "execution_count": 116,
   "metadata": {},
   "outputs": [],
   "source": [
    "from langchain.chains.combine_documents import create_stuff_documents_chain\n",
    "from langchain_core.prompts import ChatPromptTemplate, MessagesPlaceholder\n",
    "\n",
    "SYSTEM_TEMPLATE = \"\"\"\n",
    "Act as an expert in asking follow-up questions one at a time. Whenever I ask you a question, you have to ask me follow-up questions one by one to accurately suggest the specific single HS code in full 10 digits.Strictly ask questions one by one.\n",
    "\n",
    "<context>\n",
    "{context}\n",
    "</context>\n",
    "\"\"\"\n",
    "\n",
    "question_answering_prompt = ChatPromptTemplate.from_messages(\n",
    "    [\n",
    "        (\n",
    "            \"system\",\n",
    "            SYSTEM_TEMPLATE,\n",
    "        ),\n",
    "        MessagesPlaceholder(variable_name=\"messages\"),\n",
    "    ]\n",
    ")\n",
    "\n",
    "document_chain = create_stuff_documents_chain(llm,question_answering_prompt)"
   ]
  },
  {
   "cell_type": "code",
   "execution_count": 125,
   "metadata": {},
   "outputs": [
    {
     "data": {
      "text/plain": [
       "'The specific HS code for the tomatoes you described, in the form of puree, in any other type of containers, and prepared or preserved otherwise than by vinegar or acetic acid, is 2002.90.8050.'"
      ]
     },
     "execution_count": 125,
     "metadata": {},
     "output_type": "execute_result"
    }
   ],
   "source": [
    "from langchain_core.messages import HumanMessage,AIMessage\n",
    "\n",
    "document_chain.invoke(\n",
    "    {\n",
    "        \"context\": docs,\n",
    "        \"messages\": [\n",
    "            HumanMessage(content=\"I want to import tomatoes. What is the HS code?\"),\n",
    "            AIMessage(content=\"Are the tomatoes whole or in pieces?\"),\n",
    "            HumanMessage(content=\"They are neither whole nor in pieces.\"),\n",
    "            AIMessage(content=\"Are the tomatoes in the form of paste?\"),\n",
    "            HumanMessage(content=\"No\"),\n",
    "            AIMessage(content=\"Are the tomatoes in the form of puree?\"),\n",
    "            HumanMessage(content=\"Yes\"),\n",
    "            AIMessage(content=\"Are the tomatoes in containers holding less than 1.4 kg?\"),\n",
    "            HumanMessage(content=\"No\"),\n",
    "            AIMessage(content=\"Are the tomatoes in any other type of containers?\"),\n",
    "            HumanMessage(content=\"Yes\"),\n",
    "            AIMessage(content=\"Are the tomatoes prepared or preserved otherwise than by vinegar or acetic acid?\"),\n",
    "            HumanMessage(content=\"Yes\")\n",
    "        ],\n",
    "    }\n",
    ")"
   ]
  },
  {
   "cell_type": "code",
   "execution_count": null,
   "metadata": {},
   "outputs": [],
   "source": [
    "#----------------------------------------------------------------------------------------------------------------------------------------------"
   ]
  },
  {
   "cell_type": "code",
   "execution_count": 86,
   "metadata": {},
   "outputs": [],
   "source": [
    "\n",
    "from typing import Dict\n",
    "\n",
    "from langchain_core.runnables import RunnablePassthrough\n",
    "\n",
    "\n",
    "def parse_retriever_input(params: Dict):\n",
    "    return params[\"messages\"][-1].content\n",
    "\n",
    "\n",
    "retrieval_chain = RunnablePassthrough.assign(\n",
    "    context=parse_retriever_input | retriever,\n",
    ").assign(\n",
    "    answer=document_chain,\n",
    ")"
   ]
  },
  {
   "cell_type": "code",
   "execution_count": 87,
   "metadata": {},
   "outputs": [
    {
     "data": {
      "text/plain": [
       "{'messages': [HumanMessage(content='I want to import tomatoes')],\n",
       " 'context': [Document(page_content='HS Code: 2002.10.0020 - This describes Tomatoes, whole or in pieces in containers holding less than 1.4 kg prepared or preserved otherwise than by vinegar or acetic acid.'),\n",
       "  Document(page_content='HS Code: 2002.90.8010 - This describes Tomatoes paste in containers holding less than 1.4 kg prepared or preserved otherwise than by vinegar or acetic acid.'),\n",
       "  Document(page_content='HS Code: 2002.10.0080 - This describes Tomatoes, whole or in pieces in other types of containers prepared or preserved otherwise than by vinegar or acetic acid.'),\n",
       "  Document(page_content='HS Code: 2002.90.8050 - This describes Tomatoes in any other type of form excluding paste,powder,whole or in pieces and puree prepared or preserved otherwise than by vinegar or acetic acid.'),\n",
       "  Document(page_content='HS Code: 2002.90.8020 - This describes Tomatoes paste in any type of containers prepared or preserved otherwise than by vinegar or acetic acid.')],\n",
       " 'answer': 'Are you looking to import whole or in pieces tomatoes, or tomato paste?'}"
      ]
     },
     "execution_count": 87,
     "metadata": {},
     "output_type": "execute_result"
    }
   ],
   "source": [
    "retrieval_chain.invoke(\n",
    "    {\n",
    "        \"messages\": [\n",
    "            HumanMessage(content=\"I want to import tomatoes\")\n",
    "        ],\n",
    "    }\n",
    ")"
   ]
  },
  {
   "cell_type": "code",
   "execution_count": null,
   "metadata": {},
   "outputs": [],
   "source": [
    "#-----------------------------------------------------------------------------------------------------------------------------------------\n",
    "#------------------------------------------------------------------------------------------------------------------------------------------"
   ]
  },
  {
   "cell_type": "code",
   "execution_count": 65,
   "metadata": {},
   "outputs": [],
   "source": [
    "from langchain_core.prompts import ChatPromptTemplate, MessagesPlaceholder\n",
    "from langchain_core.messages import HumanMessage, AIMessage"
   ]
  },
  {
   "cell_type": "code",
   "execution_count": 66,
   "metadata": {},
   "outputs": [],
   "source": [
    "prompt_search_query = ChatPromptTemplate.from_messages([\n",
    "MessagesPlaceholder(variable_name=\"chat_history\"),\n",
    "(\"user\",\"{input}\"),\n",
    "(\"user\",\"Given the above conversation, generate a search query to look up to get information relevant to the conversation\")\n",
    "])"
   ]
  },
  {
   "cell_type": "code",
   "execution_count": 67,
   "metadata": {},
   "outputs": [],
   "source": [
    "prompt_get_answer = ChatPromptTemplate.from_messages([\n",
    "(\"system\", \"Act as a expert in asking follow-up questions one at a time.Whenever I ask you a question you have to ask me follow up questions one by one to accurately suggest the specific single HS code in full 10 digits.Strictly ask questions one by one from below context:\\\\n\\\\n{context}\"),\n",
    "MessagesPlaceholder(variable_name=\"chat_history\"),\n",
    "(\"user\",\"{input}\"),\n",
    "])"
   ]
  },
  {
   "cell_type": "code",
   "execution_count": 68,
   "metadata": {},
   "outputs": [],
   "source": [
    "retriever = vectordb1.as_retriever(search_type=\"similarity\",search_kwargs={'k': 10})"
   ]
  },
  {
   "cell_type": "code",
   "execution_count": 69,
   "metadata": {},
   "outputs": [],
   "source": [
    "from langchain.chains import create_history_aware_retriever"
   ]
  },
  {
   "cell_type": "code",
   "execution_count": 70,
   "metadata": {},
   "outputs": [],
   "source": [
    "retriever_chain = create_history_aware_retriever(llm, retriever, prompt_search_query)\n"
   ]
  },
  {
   "cell_type": "code",
   "execution_count": 71,
   "metadata": {},
   "outputs": [],
   "source": [
    "from langchain.chains.combine_documents import create_stuff_documents_chain\n",
    "document_chain=create_stuff_documents_chain(llm,prompt_get_answer)"
   ]
  },
  {
   "cell_type": "code",
   "execution_count": 72,
   "metadata": {},
   "outputs": [],
   "source": [
    "response=retriever_chain.invoke({\"input\":\"I want to import Tomatoes.\"})\n"
   ]
  },
  {
   "cell_type": "code",
   "execution_count": 73,
   "metadata": {},
   "outputs": [
    {
     "data": {
      "text/plain": [
       "[Document(page_content='HS Code: 2002.10.0020 - This describes Tomatoes, whole or in pieces in containers holding less than 1.4 kg prepared or preserved otherwise than by vinegar or acetic acid.'),\n",
       " Document(page_content='HS Code: 2002.10.0080 - This describes Tomatoes, whole or in pieces in other types of containers prepared or preserved otherwise than by vinegar or acetic acid.'),\n",
       " Document(page_content='HS Code: 2002.90.8010 - This describes Tomatoes paste in containers holding less than 1.4 kg prepared or preserved otherwise than by vinegar or acetic acid.'),\n",
       " Document(page_content='HS Code: 2002.90.8050 - This describes Tomatoes in any other type of form excluding paste,powder,whole or in pieces and puree prepared or preserved otherwise than by vinegar or acetic acid.'),\n",
       " Document(page_content='HS Code: 2002.90.4000 - This describes Tomatoes in the form of powder prepared or preserved otherwise than by vinegar or acetic acid.'),\n",
       " Document(page_content='HS Code: 2002.90.8020 - This describes Tomatoes paste in any type of containers prepared or preserved otherwise than by vinegar or acetic acid.'),\n",
       " Document(page_content='HS Code: 2002.90.8030 - This describes Tomato puree in containers holding less than 1.4 kg prepared or preserved otherwise than by vinegar or acetic acid.'),\n",
       " Document(page_content='HS Code: 2002.90.8040 - This describes Tomato puree in any type of containers prepared or preserved otherwise than by vinegar or acetic acid.'),\n",
       " Document(page_content='HS Code: 2001.90.3800 - This describes other Vegetables excluding Artichokes,Beans,Nopalitos,Onions and Pimientos prepared or preserved by vinegar or acetic acid.'),\n",
       " Document(page_content='HS Code: 2001.90.3000 - This describes Beans Vegetables prepared or preserved by vinegar or acetic acid.')]"
      ]
     },
     "execution_count": 73,
     "metadata": {},
     "output_type": "execute_result"
    }
   ],
   "source": [
    "response"
   ]
  },
  {
   "cell_type": "code",
   "execution_count": 82,
   "metadata": {},
   "outputs": [
    {
     "data": {
      "text/plain": [
       "[Document(page_content='HS Code: 2002.90.8030 - This describes Tomato puree in containers holding less than 1.4 kg prepared or preserved otherwise than by vinegar or acetic acid.'),\n",
       " Document(page_content='HS Code: 2002.90.8040 - This describes Tomato puree in any type of containers prepared or preserved otherwise than by vinegar or acetic acid.'),\n",
       " Document(page_content='HS Code: 2002.90.8010 - This describes Tomatoes paste in containers holding less than 1.4 kg prepared or preserved otherwise than by vinegar or acetic acid.'),\n",
       " Document(page_content='HS Code: 2002.90.8020 - This describes Tomatoes paste in any type of containers prepared or preserved otherwise than by vinegar or acetic acid.'),\n",
       " Document(page_content='HS Code: 2002.10.0080 - This describes Tomatoes, whole or in pieces in other types of containers prepared or preserved otherwise than by vinegar or acetic acid.'),\n",
       " Document(page_content='HS Code: 2002.90.4000 - This describes Tomatoes in the form of powder prepared or preserved otherwise than by vinegar or acetic acid.'),\n",
       " Document(page_content='HS Code: 2002.10.0020 - This describes Tomatoes, whole or in pieces in containers holding less than 1.4 kg prepared or preserved otherwise than by vinegar or acetic acid.'),\n",
       " Document(page_content='HS Code: 2002.90.8050 - This describes Tomatoes in any other type of form excluding paste,powder,whole or in pieces and puree prepared or preserved otherwise than by vinegar or acetic acid.'),\n",
       " Document(page_content='HS Code: 2001.90.1000 - This describes Capers prepared or preserved by vinegar or acetic acid in immediate containers holding more than 3.4 kg.'),\n",
       " Document(page_content='HS Code: 2001.90.3000 - This describes Beans Vegetables prepared or preserved by vinegar or acetic acid.')]"
      ]
     },
     "execution_count": 82,
     "metadata": {},
     "output_type": "execute_result"
    }
   ],
   "source": [
    "# No chat history\n",
    "chat_history = [HumanMessage(content=\"I want to import tomatoes\"),AIMessage(content='Are you looking to import whole tomatoes or processed tomato products?'),\n",
    "                HumanMessage(content=\"processed tomato products\"),AIMessage(content='Are you specifically interested in importing tomato paste, tomato puree, or any other specific processed tomato product?'),\n",
    "                HumanMessage(content=\"Tomato Puree\"),AIMessage(content='Are you looking to import tomato puree in containers holding less than 1.4 kg or in any type of containers?'),\n",
    "                HumanMessage(content=\"any other types of containers\"),AIMessage(content='Are you looking for tomato puree that is prepared or preserved otherwise than by vinegar or acetic acid?'),\n",
    "                ]\n",
    "response = retriever_chain.invoke({\n",
    "    \"chat_history\": chat_history,\n",
    "    \"input\": \"Yes\"\n",
    "})\n",
    "\n",
    "response"
   ]
  },
  {
   "cell_type": "code",
   "execution_count": 83,
   "metadata": {},
   "outputs": [
    {
     "data": {
      "text/plain": [
       "'Based on your requirements, the specific HS code for importing tomato puree in any type of containers, prepared or preserved otherwise than by vinegar or acetic acid, would be 2002.90.8040.'"
      ]
     },
     "execution_count": 83,
     "metadata": {},
     "output_type": "execute_result"
    }
   ],
   "source": [
    "chat_history = [HumanMessage(content=\"I want to import tomatoes\"),AIMessage(content='Are you looking to import whole tomatoes or processed tomato products?'),\n",
    "                HumanMessage(content=\"processed tomato products\"),AIMessage(content='Are you specifically interested in importing tomato paste, tomato puree, or any other specific processed tomato product?'),\n",
    "                HumanMessage(content=\"Tomato Puree\"),AIMessage(content='Are you looking to import tomato puree in containers holding less than 1.4 kg or in any type of containers?'),\n",
    "                HumanMessage(content=\"any other types of containers\"),AIMessage(content='Are you looking for tomato puree that is prepared or preserved otherwise than by vinegar or acetic acid?'),\n",
    "                ]\n",
    "result=document_chain.invoke({\"chat_history\":chat_history,\"context\":response,\"input\":\"Yes\"})\n",
    "result"
   ]
  },
  {
   "cell_type": "code",
   "execution_count": null,
   "metadata": {},
   "outputs": [],
   "source": [
    "#-------------------------------------------------------------------------------------------------------------------------------------------------\n",
    "#-------------------------------------------------------------------------------------------------------------------------------------------------"
   ]
  },
  {
   "cell_type": "code",
   "execution_count": 84,
   "metadata": {},
   "outputs": [],
   "source": [
    "from langchain_core.prompts import ChatPromptTemplate, MessagesPlaceholder\n",
    "from langchain_core.messages import HumanMessage, AIMessage\n",
    "from langchain.chains import create_history_aware_retriever\n",
    "from langchain.chains.combine_documents import create_stuff_documents_chain\n",
    "\n",
    "prompt_search_query = ChatPromptTemplate.from_messages([\n",
    "    MessagesPlaceholder(variable_name=\"chat_history\"),\n",
    "    (\"user\", \"{input}\"),\n",
    "    (\"user\", \"Given the above conversation, generate a search query to look up to get information relevant to the conversation\")\n",
    "])\n",
    "\n",
    "prompt_get_answer = ChatPromptTemplate.from_messages([\n",
    "    (\"system\", \"Act as a expert in asking follow-up questions one at a time.Whenever I ask you a question you have to ask me follow up questions one by one to accurately suggest the specific single HS code in full 10 digits.Strictly ask questions one by one from below context:\\\\n\\\\n{context}\"),\n",
    "    MessagesPlaceholder(variable_name=\"chat_history\"),\n",
    "    (\"user\", \"{input}\"),\n",
    "])\n",
    "\n",
    "retriever = vectordb1.as_retriever(search_type=\"similarity\", search_kwargs={'k': 10})"
   ]
  },
  {
   "cell_type": "code",
   "execution_count": 91,
   "metadata": {},
   "outputs": [],
   "source": [
    "def update_chat_history(human_message, ai_message):\n",
    "    chat_history.append(HumanMessage(content=human_message))\n",
    "    chat_history.append(AIMessage(content=ai_message))\n",
    "    return chat_history"
   ]
  },
  {
   "cell_type": "code",
   "execution_count": 92,
   "metadata": {},
   "outputs": [],
   "source": [
    "retriever_chain = create_history_aware_retriever(llm, retriever, prompt_search_query)\n",
    "document_chain = create_stuff_documents_chain(llm, prompt_get_answer)"
   ]
  },
  {
   "cell_type": "code",
   "execution_count": 104,
   "metadata": {},
   "outputs": [
    {
     "name": "stdout",
     "output_type": "stream",
     "text": [
      "Based on your requirements, the specific HS code for importing tomato puree in any type of containers, prepared or preserved otherwise than by vinegar or acetic acid, is 2002.90.8040.\n"
     ]
    }
   ],
   "source": [
    "response = retriever_chain.invoke({\"chat_history\": chat_history, \"input\": \"yes\"})\n",
    "result = document_chain.invoke({\"chat_history\": chat_history, \"context\": response, \"input\": \"yes\"})\n",
    "print(result)"
   ]
  },
  {
   "cell_type": "code",
   "execution_count": 103,
   "metadata": {},
   "outputs": [
    {
     "data": {
      "text/plain": [
       "[HumanMessage(content='I want to import tomatoes'),\n",
       " AIMessage(content='Are you looking to import whole tomatoes or processed tomato products?'),\n",
       " HumanMessage(content='processed tomato products'),\n",
       " AIMessage(content='Are you specifically interested in importing tomato paste, tomato puree, or tomatoes in other forms such as powder or pieces?'),\n",
       " HumanMessage(content='Tomato puree'),\n",
       " AIMessage(content='Are you looking to import tomato puree in containers holding less than 1.4 kg or in any type of containers?'),\n",
       " HumanMessage(content='any type of containers'),\n",
       " AIMessage(content='Are you looking for tomato puree that is prepared or preserved otherwise than by vinegar or acetic acid?')]"
      ]
     },
     "execution_count": 103,
     "metadata": {},
     "output_type": "execute_result"
    }
   ],
   "source": [
    "update_chat_history(human_message=\"any type of containers\",ai_message=\"Are you looking for tomato puree that is prepared or preserved otherwise than by vinegar or acetic acid?\")"
   ]
  },
  {
   "cell_type": "code",
   "execution_count": 105,
   "metadata": {},
   "outputs": [],
   "source": [
    "#-------------------------------------------------------------------------------------------------------------------------------------------------\n",
    "#-------------------------------------------------------------------------------------------------------------------------------------------------"
   ]
  },
  {
   "cell_type": "code",
   "execution_count": 107,
   "metadata": {},
   "outputs": [],
   "source": [
    "from langchain.chains import create_retrieval_chain\n",
    "\n",
    "retriever_chain = create_history_aware_retriever(llm, retriever, prompt_search_query)\n",
    "document_chain = create_stuff_documents_chain(llm, prompt_get_answer)\n",
    "\n",
    "rag_chain = create_retrieval_chain(retriever_chain, document_chain)"
   ]
  },
  {
   "cell_type": "code",
   "execution_count": 108,
   "metadata": {},
   "outputs": [],
   "source": [
    "from langchain_community.chat_message_histories import ChatMessageHistory\n",
    "from langchain_core.chat_history import BaseChatMessageHistory\n",
    "from langchain_core.runnables.history import RunnableWithMessageHistory\n",
    "\n",
    "store = {}\n",
    "\n",
    "\n",
    "def get_session_history(session_id: str) -> BaseChatMessageHistory:\n",
    "    if session_id not in store:\n",
    "        store[session_id] = ChatMessageHistory()\n",
    "    return store[session_id]\n",
    "\n",
    "\n",
    "conversational_rag_chain = RunnableWithMessageHistory(\n",
    "    rag_chain,\n",
    "    get_session_history,\n",
    "    input_messages_key=\"input\",\n",
    "    history_messages_key=\"chat_history\",\n",
    "    output_messages_key=\"answer\",\n",
    ")"
   ]
  },
  {
   "cell_type": "code",
   "execution_count": 113,
   "metadata": {},
   "outputs": [
    {
     "data": {
      "text/plain": [
       "'Based on your responses, the specific HS code for importing tomato puree in any type of containers, prepared or preserved otherwise than by vinegar or acetic acid, is 2002.90.8040.'"
      ]
     },
     "execution_count": 113,
     "metadata": {},
     "output_type": "execute_result"
    }
   ],
   "source": [
    "conversational_rag_chain.invoke(\n",
    "    {\"input\": \"yes\"},\n",
    "    config={\n",
    "        \"configurable\": {\"session_id\": \"abc123\"}\n",
    "    },  # constructs a key \"abc123\" in `store`.\n",
    ")[\"answer\"]"
   ]
  },
  {
   "cell_type": "code",
   "execution_count": 114,
   "metadata": {},
   "outputs": [
    {
     "name": "stdout",
     "output_type": "stream",
     "text": [
      "User: I want to import tomatoes\n",
      "\n",
      "AI: Are you looking to import whole tomatoes or tomatoes in pieces?\n",
      "\n",
      "User: none of those\n",
      "\n",
      "AI: Are you looking to import tomato paste, tomato puree, or tomatoes in any other form?\n",
      "\n",
      "User: tomato puree\n",
      "\n",
      "AI: Are you looking to import tomato puree in containers holding less than 1.4 kg or in any type of containers?\n",
      "\n",
      "User: in any type of containers\n",
      "\n",
      "AI: Are you looking to import tomato puree that is prepared or preserved otherwise than by vinegar or acetic acid?\n",
      "\n",
      "User: yes\n",
      "\n",
      "AI: Based on your responses, the specific HS code for importing tomato puree in any type of containers, prepared or preserved otherwise than by vinegar or acetic acid, is 2002.90.8040.\n",
      "\n"
     ]
    }
   ],
   "source": [
    "for message in store[\"abc123\"].messages:\n",
    "    if isinstance(message, AIMessage):\n",
    "        prefix = \"AI\"\n",
    "    else:\n",
    "        prefix = \"User\"\n",
    "\n",
    "    print(f\"{prefix}: {message.content}\\n\")"
   ]
  },
  {
   "cell_type": "code",
   "execution_count": null,
   "metadata": {},
   "outputs": [],
   "source": [
    "#------------------------------------------------------------------------------------------------------------------------------------------------\n",
    "#------------------------------------------------------------------------------------------------------------------------------------------------"
   ]
  }
 ],
 "metadata": {
  "kernelspec": {
   "display_name": "myenv",
   "language": "python",
   "name": "python3"
  },
  "language_info": {
   "codemirror_mode": {
    "name": "ipython",
    "version": 3
   },
   "file_extension": ".py",
   "mimetype": "text/x-python",
   "name": "python",
   "nbconvert_exporter": "python",
   "pygments_lexer": "ipython3",
   "version": "3.10.8"
  }
 },
 "nbformat": 4,
 "nbformat_minor": 2
}
